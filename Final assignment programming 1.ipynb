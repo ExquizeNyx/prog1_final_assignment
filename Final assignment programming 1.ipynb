{
 "cells": [
  {
   "cell_type": "markdown",
   "id": "c4be372f",
   "metadata": {},
   "source": [
    "# Final assignment programming 1"
   ]
  },
  {
   "cell_type": "markdown",
   "id": "6371669c",
   "metadata": {},
   "source": [
    "###  People with a low income have an increased chance of health risks"
   ]
  },
  {
   "cell_type": "markdown",
   "id": "bc505182",
   "metadata": {},
   "source": [
    "## Help during programming\n",
    "Gitbook\n",
    "https://fennaf.gitbook.io/bfvm22prog1/ <br>\n",
    "\n",
    "https://www.ibm.com/docs/en/watson-studio-local/1.2.3?topic=notebooks-markdown-jupyter-cheatsheet\n",
    "\n",
    "<br>\n",
    "Pandas and bokeh programming <br>\n",
    "https://pandas.pydata.org/pandas-docs/stable/reference/api/pandas.DataFrame.interpolate.html <br>\n",
    "https://rubberduckdebugging.com/ <br>\n",
    "https://docs.bokeh.org/en/latest/docs/gallery.html<br>\n",
    "https://opensourceuom.gitlab.io/blog/post_files/2022-02-23/git-essentials-cheatsheet.pdf\n",
    "\n",
    "Tutorials about combining data: https://github.com/fenna/BFVM22PROG1/blob/main/tutorials/tutorial_combine_data.ipynb\n",
    "\n",
    "https://machinelearningmastery.com/statistical-hypothesis-tests-in-python-cheat-sheet/ \n",
    "\n",
    "If your data is not normally distributed you might want to look for an alternative. See also https://www.statisticshowto.com/probability-and-statistics/statistics-definitions/parametric-and-non-parametric-data/\n",
    "\n",
    "We can use pandas.DataFrame.melt to prepare the data for statistical analysis. \n",
    "https://fennaf.gitbook.io/bfvm19prog1/data-wrangling/reshape-with-melt\n",
    "\n",
    "I updated the gitbook (with data exploration part mainly). Please refresh your browser to get the latest version https://fennaf.gitbook.io/bfvm22prog1/\n",
    "\n",
    "\n",
    "https://docs.bokeh.org/en/latest/docs/examples/basic/data/transform_markers.html <br>\n",
    "https://docs.bokeh.org/en/latest/docs/user_guide/interaction/linking.html#ug-interaction-linked-panning <br>"
   ]
  },
  {
   "cell_type": "code",
   "execution_count": null,
   "id": "7d4a554a",
   "metadata": {},
   "outputs": [],
   "source": [
    "# Pearson correlation?\n",
    "# libraries, functions, rest\n",
    "# consider puttting functions into a module"
   ]
  },
  {
   "cell_type": "markdown",
   "id": "2ce3b24e",
   "metadata": {},
   "source": [
    "***"
   ]
  },
  {
   "cell_type": "markdown",
   "id": "cb7f411b",
   "metadata": {},
   "source": [
    "## About the data"
   ]
  },
  {
   "cell_type": "markdown",
   "id": "a0b19449",
   "metadata": {},
   "source": [
    "The data comes from the Lifelines cohort. Lifelines is a large, multi-generational, prospective cohort study that includes over 167,000 participants (10%) from the northern population of the Netherlands. \n",
    "Within this cohort study the participants are followed over a 30-year period. Every five years, participants visit one of the Lifelines sites in the northern parts of the Netherlands for an assessment. During these visits, several physical measurements are taken and different biomaterials are collected. As part of the assessment, participants are asked to fill out comprehensive questionnaires. In between assessments, participants are invited to complete follow-up questionnaires approximately once every 1.5 years."
   ]
  },
  {
   "cell_type": "markdown",
   "id": "2a74b246",
   "metadata": {},
   "source": [
    "https://coronabarometer.nl/ <br>\n",
    "https://wiki-lifelines.web.rug.nl/doku.php?id=cohort <br>\n",
    "https://wiki-lifelines.web.rug.nl/doku.php?id=1a <br>\n",
    "https://wiki-lifelines.web.rug.nl/doku.php?id=default_variables <br>\n",
    "https://inzicht.lifelines.nl/index.php <br>"
   ]
  },
  {
   "cell_type": "markdown",
   "id": "e3f4c28e",
   "metadata": {},
   "source": [
    "The data is aggregated on zip codes and on age groups in order to preserve the\n",
    "privacy of participants."
   ]
  },
  {
   "cell_type": "markdown",
   "id": "8bf70538",
   "metadata": {},
   "source": [
    "NSES_YEAR = Year for which the NSES score was calculated as mean <BR>\n",
    "NSES = Neighborhood socio-economic status score according to CBS Statistics\n",
    "Netherlands, based on inhabitants’ educational level, income and job\n",
    "prospective as mean\n",
    "<br>\n"
   ]
  },
  {
   "cell_type": "markdown",
   "id": "26a50f2f",
   "metadata": {},
   "source": [
    "***"
   ]
  },
  {
   "cell_type": "markdown",
   "id": "f5cb4d67",
   "metadata": {},
   "source": [
    "## Libraries:"
   ]
  },
  {
   "cell_type": "code",
   "execution_count": null,
   "id": "75c24221",
   "metadata": {},
   "outputs": [],
   "source": [
    "import yaml\n",
    "\n",
    "import pandas as pd\n",
    "import numpy as np\n",
    "import seaborn as sns\n",
    "import hvplot.pandas\n",
    "import statsmodels.api as sm\n",
    "import matplotlib.pyplot as plt\n",
    "from scipy.stats import shapiro\n",
    "\n",
    "#import bokeh and direct the output to the notebook\n",
    "from bokeh.io import output_notebook\n",
    "from bokeh.layouts import gridplot\n",
    "from bokeh.plotting import figure, output_file, show\n",
    "output_notebook()"
   ]
  },
  {
   "cell_type": "code",
   "execution_count": null,
   "id": "5d9a31ba",
   "metadata": {},
   "outputs": [],
   "source": [
    "from Summary_functions_and_code_clean_v11 import DS_Q_Q_Hist, DS_Q_Q_Plot"
   ]
  },
  {
   "cell_type": "markdown",
   "id": "2ff9cb3d",
   "metadata": {},
   "source": [
    "***"
   ]
  },
  {
   "cell_type": "markdown",
   "id": "77f90a9f",
   "metadata": {},
   "source": [
    "## Load the data"
   ]
  },
  {
   "cell_type": "code",
   "execution_count": null,
   "id": "fdd9846f",
   "metadata": {},
   "outputs": [],
   "source": [
    "with open(\"config.yaml\", 'r') as stream:\n",
    "    config = yaml.safe_load(stream)\n",
    "zipcodes_general = config['lifelines_zipcode_gen']\n",
    "zipcodes = config['lifelines_zipcode']\n",
    "age = config['lifelines_age']"
   ]
  },
  {
   "cell_type": "code",
   "execution_count": null,
   "id": "cf218573",
   "metadata": {},
   "outputs": [],
   "source": [
    "# Name the dataframes\n",
    "# Encoding utf_16 is necessary to read the table\n",
    "zipcode_gen = pd.read_table(zipcodes_general, encoding='utf_16')\n",
    "zipcodes = pd.read_table(zipcodes, encoding='utf_16')\n",
    "age = pd.read_table(age, encoding='utf_16')"
   ]
  },
  {
   "cell_type": "markdown",
   "id": "a509817b",
   "metadata": {},
   "source": [
    "***"
   ]
  },
  {
   "cell_type": "markdown",
   "id": "c63d01bd",
   "metadata": {},
   "source": [
    "## Cleaning and inspecting the data"
   ]
  },
  {
   "cell_type": "code",
   "execution_count": null,
   "id": "47d014d8",
   "metadata": {},
   "outputs": [],
   "source": [
    "# Inspect dataframe data aggregated on zipcode general\n",
    "zipcode_gen.head()"
   ]
  },
  {
   "cell_type": "code",
   "execution_count": null,
   "id": "a019d7cc",
   "metadata": {},
   "outputs": [],
   "source": [
    "# Inspect zipcode dataframe\n",
    "zipcodes.head()"
   ]
  },
  {
   "cell_type": "code",
   "execution_count": null,
   "id": "40431fae",
   "metadata": {},
   "outputs": [],
   "source": [
    "# Inspect dataframe data aggregated on age\n",
    "age.head()"
   ]
  },
  {
   "cell_type": "code",
   "execution_count": null,
   "id": "110817ce",
   "metadata": {},
   "outputs": [],
   "source": [
    "age.tail()"
   ]
  },
  {
   "cell_type": "code",
   "execution_count": null,
   "id": "1e8c96f3",
   "metadata": {},
   "outputs": [],
   "source": [
    "# Check info of dataframe, because there seems to be missing data\n",
    "age.info()"
   ]
  },
  {
   "cell_type": "code",
   "execution_count": null,
   "id": "ec681610",
   "metadata": {},
   "outputs": [],
   "source": [
    "f\"The number of entries is {len(age)}\""
   ]
  },
  {
   "cell_type": "markdown",
   "id": "71ed82ad",
   "metadata": {},
   "source": [
    "- There are 72 variables (columns) in total in the dataframe <br>\n",
    "- Except for the first three columns all the datatypes are objects. The values are averages of the age group, so the dtype should be changed to floats.\n",
    "- Also, the missing values don't register as missing values. Spaces are used to fill in the missing values."
   ]
  },
  {
   "cell_type": "code",
   "execution_count": null,
   "id": "71d151cf",
   "metadata": {},
   "outputs": [],
   "source": [
    "# Change the datatype from objects to floats\n",
    "#age['AGE_T1'] = age.AGE_T1.str.replace(',', '.').astype(float)"
   ]
  },
  {
   "cell_type": "code",
   "execution_count": null,
   "id": "a4fcc593",
   "metadata": {},
   "outputs": [],
   "source": [
    "# Replace comma's with dots for the averages\n",
    "age = age.replace(',', '.',regex=True)"
   ]
  },
  {
   "cell_type": "code",
   "execution_count": null,
   "id": "d22fa277",
   "metadata": {},
   "outputs": [],
   "source": [
    "# Replace the whitespaces with NaN values\n",
    "age = age.replace(r'\\s+', np.nan, regex=True)"
   ]
  },
  {
   "cell_type": "code",
   "execution_count": null,
   "id": "fd4bac7c",
   "metadata": {},
   "outputs": [],
   "source": [
    "#df.replace('G', 1, inplace=True)"
   ]
  },
  {
   "cell_type": "code",
   "execution_count": null,
   "id": "89913491",
   "metadata": {},
   "outputs": [],
   "source": [
    "age.tail()"
   ]
  },
  {
   "cell_type": "code",
   "execution_count": null,
   "id": "03d24840",
   "metadata": {},
   "outputs": [],
   "source": [
    "# Check the total number of missing values\n",
    "f\"The total number of missing values are {age.isnull().sum().sum()}\""
   ]
  },
  {
   "cell_type": "code",
   "execution_count": null,
   "id": "c9645825",
   "metadata": {},
   "outputs": [],
   "source": [
    "#age.info()"
   ]
  },
  {
   "cell_type": "markdown",
   "id": "77d3366c",
   "metadata": {},
   "source": [
    "##### Categories with missing numbers are:\n",
    "Personality <br>\n",
    "- C_SUM_T1\n",
    "- A_SUM_T1\n",
    "- SC_SUM_T1\n",
    "- I_SUM_T1\n",
    "- E_SUM_T1\n",
    "- SD_SUM_T1\n",
    "- V_SUM_T1 \n",
    "- D_SUM_T1\n",
    "\n",
    "Only completed cases, as mean, of the personality questionaire are in the data set\n",
    "\n",
    "Health and lifestyle:\n",
    "- ALCOHOL_INTAKE_T1\n",
    "- KCAL_INTAKE_T1\n",
    "- PREGNANCIES,\n",
    "- SLEEP_QUALITY\n",
    "\n",
    "Only women can get pregnant, so it make sense that there is data for only the females."
   ]
  },
  {
   "cell_type": "code",
   "execution_count": null,
   "id": "6323c6b5",
   "metadata": {},
   "outputs": [],
   "source": [
    "# Uniques and counts for the Age column\n",
    "age.AGE.value_counts()"
   ]
  },
  {
   "cell_type": "markdown",
   "id": "a74871b8",
   "metadata": {},
   "source": [
    "Age categories range from 25 to 85 years old and are sperated in male and female<br>"
   ]
  },
  {
   "cell_type": "code",
   "execution_count": null,
   "id": "3962499f",
   "metadata": {},
   "outputs": [],
   "source": [
    "# Change the dtype of the data frame to floats\n",
    "age = age.astype(float)"
   ]
  },
  {
   "cell_type": "code",
   "execution_count": null,
   "id": "beb4f20c",
   "metadata": {},
   "outputs": [],
   "source": [
    "# First three columns should stay integers\n",
    "age = age.astype({'AGE':'int', 'GENDER':'int','GROUP_SIZE_CAT':'int'})"
   ]
  },
  {
   "cell_type": "code",
   "execution_count": null,
   "id": "812d5760",
   "metadata": {},
   "outputs": [],
   "source": [
    "# Check if the changes worked\n",
    "age.head()"
   ]
  },
  {
   "cell_type": "code",
   "execution_count": null,
   "id": "96cbcc66",
   "metadata": {},
   "outputs": [],
   "source": [
    "# Descriptive stats of data frame\n",
    "age.describe().T"
   ]
  },
  {
   "cell_type": "markdown",
   "id": "16ab59ad",
   "metadata": {},
   "source": [
    "#### Select the columns that might be relevant for the research question"
   ]
  },
  {
   "cell_type": "code",
   "execution_count": null,
   "id": "b3bf777b",
   "metadata": {},
   "outputs": [],
   "source": [
    "age_new = age[['AGE','GENDER','EDUCATION_LOWER_T1', 'OSTEOARTHRITIS_T1','NSES','GROUP_SIZE_CAT']]"
   ]
  },
  {
   "cell_type": "code",
   "execution_count": null,
   "id": "29f8aa25",
   "metadata": {},
   "outputs": [],
   "source": [
    "# Make a copy of the newly created dataframe\n",
    "df = age_new.copy()"
   ]
  },
  {
   "cell_type": "markdown",
   "id": "9288f7d7",
   "metadata": {},
   "source": [
    "According to the toolkit of lifelines: <br>\n",
    "Gender is:\n",
    "- Male = 1\n",
    "- Female = 2"
   ]
  },
  {
   "cell_type": "code",
   "execution_count": null,
   "id": "dfd00f61",
   "metadata": {},
   "outputs": [],
   "source": [
    "# Change the values of the gender column to their corresponding name\n",
    "df['GENDER'] = df['GENDER'].replace([1, 2], ['Male', 'Female'])"
   ]
  },
  {
   "cell_type": "markdown",
   "id": "4ee5be29",
   "metadata": {},
   "source": [
    "## Check distribution/normality"
   ]
  },
  {
   "cell_type": "markdown",
   "id": "7d045bad",
   "metadata": {},
   "source": [
    "### Q_Q plot"
   ]
  },
  {
   "cell_type": "markdown",
   "id": "616079f0",
   "metadata": {},
   "source": [
    "A QQ-plot is used to visually determine how close a sample is to a the Normal distribution. If the points fall roughly on the diagonal line, then the samples can be considered to be distributed normal."
   ]
  },
  {
   "cell_type": "code",
   "execution_count": null,
   "id": "f3a81523",
   "metadata": {
    "scrolled": true
   },
   "outputs": [],
   "source": [
    "# Another Q_Q plot (DS1 bayesian statistics)\n",
    "print('Education')\n",
    "DS_Q_Q_Plot(df.EDUCATION_LOWER_T1)\n",
    "print('Osteoarthritis')\n",
    "DS_Q_Q_Plot(df.OSTEOARTHRITIS_T1)\n"
   ]
  },
  {
   "cell_type": "markdown",
   "id": "edbd6276",
   "metadata": {},
   "source": [
    "### Histogram"
   ]
  },
  {
   "cell_type": "markdown",
   "id": "f8c8e28a",
   "metadata": {},
   "source": [
    "Before assessing the distribution statistically, plot the distribution first."
   ]
  },
  {
   "cell_type": "code",
   "execution_count": null,
   "id": "fc32ce1d",
   "metadata": {},
   "outputs": [],
   "source": [
    "# Histogram of education by gender\n",
    "histogram = df.hvplot.hist('OSTEOARTHRITIS_T1',subplots=True, alpha = 0.4).opts(toolbar=None)\n",
    "histogram"
   ]
  },
  {
   "cell_type": "code",
   "execution_count": null,
   "id": "259c122a",
   "metadata": {},
   "outputs": [],
   "source": [
    "histogram = df.hvplot.hist('EDUCATION_LOWER_T1',subplots=True, alpha = 0.4).opts(toolbar=None)\n",
    "histogram"
   ]
  },
  {
   "cell_type": "code",
   "execution_count": null,
   "id": "b7cf66d8",
   "metadata": {},
   "outputs": [],
   "source": [
    "print('Education')\n",
    "DS_Q_Q_Hist(df.EDUCATION_LOWER_T1)\n",
    "print('Osteoarthritis')\n",
    "DS_Q_Q_Hist(df.OSTEOARTHRITIS_T1)"
   ]
  },
  {
   "cell_type": "markdown",
   "id": "d219a653",
   "metadata": {},
   "source": [
    "Not normally distributed"
   ]
  },
  {
   "cell_type": "markdown",
   "id": "67618ce6",
   "metadata": {},
   "source": [
    "#### Correlations"
   ]
  },
  {
   "cell_type": "markdown",
   "id": "cebc14d7",
   "metadata": {},
   "source": [
    "See if there correlations amongs the variables: <br>\n",
    "<b> Heatmap"
   ]
  },
  {
   "cell_type": "code",
   "execution_count": null,
   "id": "79ae2197",
   "metadata": {},
   "outputs": [],
   "source": [
    "df.corr(method='spearman').abs()"
   ]
  },
  {
   "cell_type": "code",
   "execution_count": null,
   "id": "5551bb95",
   "metadata": {},
   "outputs": [],
   "source": [
    "#correlation matrix\n",
    "# Heatmap\n",
    "corr = df.corr().abs()\n",
    "#selection.corr().abs()\n",
    "sns.heatmap(corr, annot=True)"
   ]
  },
  {
   "cell_type": "code",
   "execution_count": null,
   "id": "9057c0d2",
   "metadata": {},
   "outputs": [],
   "source": [
    "from scipy.stats import spearmanr\n",
    "\n",
    "rho, p = spearmanr(df['EDUCATION_LOWER_T1'],df['OSTEOARTHRITIS_T1'])\n",
    "print(rho)\n",
    "print(p)"
   ]
  },
  {
   "cell_type": "markdown",
   "id": "8ee03a5f",
   "metadata": {},
   "source": [
    "There is a significant correlation"
   ]
  },
  {
   "cell_type": "markdown",
   "id": "24154eb8",
   "metadata": {},
   "source": [
    "## Visualization"
   ]
  },
  {
   "cell_type": "markdown",
   "id": "745fd048",
   "metadata": {},
   "source": [
    "## Conclusion"
   ]
  },
  {
   "cell_type": "markdown",
   "id": "7c4dd377",
   "metadata": {},
   "source": [
    "***"
   ]
  },
  {
   "cell_type": "markdown",
   "id": "dbe3430f",
   "metadata": {},
   "source": [
    "## Gender"
   ]
  },
  {
   "cell_type": "code",
   "execution_count": null,
   "id": "7260c601",
   "metadata": {},
   "outputs": [],
   "source": [
    "# Seperate the dataframe into dataframe for male and female\n",
    "male = df.loc[df['GENDER'] == 'Male']\n",
    "female = df.loc[df['GENDER'] == 'Female']"
   ]
  },
  {
   "cell_type": "code",
   "execution_count": null,
   "id": "98959707",
   "metadata": {},
   "outputs": [],
   "source": [
    "male.corr().abs()"
   ]
  },
  {
   "cell_type": "code",
   "execution_count": null,
   "id": "79cfbf7d",
   "metadata": {},
   "outputs": [],
   "source": [
    "#correlation matrix\n",
    "# Heatmap\n",
    "corr_male = male.corr().abs()\n",
    "#selection.corr().abs()\n",
    "sns.heatmap(corr_male, annot=True)"
   ]
  },
  {
   "cell_type": "code",
   "execution_count": null,
   "id": "fb4c558a",
   "metadata": {},
   "outputs": [],
   "source": [
    "female.corr().abs()"
   ]
  },
  {
   "cell_type": "code",
   "execution_count": null,
   "id": "5e250727",
   "metadata": {},
   "outputs": [],
   "source": [
    "#correlation matrix\n",
    "# Heatmap\n",
    "corr_female = female.corr().abs()\n",
    "#selection.corr().abs()\n",
    "sns.heatmap(corr_female, annot=True)"
   ]
  },
  {
   "cell_type": "markdown",
   "id": "3101f28d",
   "metadata": {},
   "source": [
    "***"
   ]
  },
  {
   "cell_type": "markdown",
   "id": "0dbd812a",
   "metadata": {},
   "source": [
    "#### Male"
   ]
  },
  {
   "cell_type": "code",
   "execution_count": null,
   "id": "5fd02bc6",
   "metadata": {},
   "outputs": [],
   "source": [
    "# Q_Q plot of education level of males (statsmodels)\n",
    "fig = sm.qqplot(male.EDUCATION_LOWER_T1, fit = True, line = '45')\n",
    "plt.show()"
   ]
  },
  {
   "cell_type": "code",
   "execution_count": null,
   "id": "7ddf6791",
   "metadata": {},
   "outputs": [],
   "source": [
    "# Another Q_Q plot (DS1 bayesian statistics)\n",
    "DS_Q_Q_Plot(male.EDUCATION_LOWER_T1)"
   ]
  },
  {
   "cell_type": "markdown",
   "id": "59c33459",
   "metadata": {},
   "source": [
    "With the Bayesian DS1 Q_Q plot you can see that the data falls within a 95% confidence interval. <br>\n",
    "The data seems to be following the normal line. Indicating that the data might be normally distributed."
   ]
  },
  {
   "cell_type": "markdown",
   "id": "ef589643",
   "metadata": {},
   "source": [
    "#### Female"
   ]
  },
  {
   "cell_type": "code",
   "execution_count": null,
   "id": "6b192d70",
   "metadata": {},
   "outputs": [],
   "source": [
    "# Q_Q_plot of education level of females (statsmodels)\n",
    "fig = sm.qqplot(female.EDUCATION_LOWER_T1, fit = True, line = '45')\n",
    "plt.show()"
   ]
  },
  {
   "cell_type": "code",
   "execution_count": null,
   "id": "91016278",
   "metadata": {},
   "outputs": [],
   "source": [
    "# Another Q_Q plot (DS1 bayesian statistics)\n",
    "DS_Q_Q_Plot(female.EDUCATION_LOWER_T1)"
   ]
  },
  {
   "cell_type": "markdown",
   "id": "a42e92de",
   "metadata": {},
   "source": [
    "Most of the data seems to be in the 95% confidence interval. However it does not seem to be linear, so might not be normally distributed for women."
   ]
  },
  {
   "cell_type": "code",
   "execution_count": null,
   "id": "9bbea9e0",
   "metadata": {},
   "outputs": [],
   "source": [
    "# Histogram of education by gender\n",
    "histogram = df.hvplot.hist('EDUCATION_LOWER_T1', by='GENDER', subplots=True, alpha = 0.4).opts(toolbar=None)\n",
    "histogram"
   ]
  },
  {
   "cell_type": "markdown",
   "id": "34b46571",
   "metadata": {},
   "source": [
    "#### Variation histogram: density plot\n",
    "A density plot predicts the count value and smoothens across the x-axis. They're not affected by bins, so they are better at determining the distribution shape"
   ]
  },
  {
   "cell_type": "code",
   "execution_count": null,
   "id": "84286629",
   "metadata": {},
   "outputs": [],
   "source": [
    "# Density plot education by gender\n",
    "df.hvplot.kde('EDUCATION_LOWER_T1', \n",
    "                    by='GENDER', alpha=0.5, title='Density plot of education level by gender')"
   ]
  },
  {
   "cell_type": "markdown",
   "id": "22f988e2",
   "metadata": {},
   "source": [
    "#### Histogram DS1 male - education"
   ]
  },
  {
   "cell_type": "code",
   "execution_count": null,
   "id": "c51ad785",
   "metadata": {},
   "outputs": [],
   "source": [
    "DS_Q_Q_Hist(male.EDUCATION_LOWER_T1)"
   ]
  },
  {
   "cell_type": "markdown",
   "id": "1bf60b49",
   "metadata": {},
   "source": [
    "##### Histogram DS1 female - education"
   ]
  },
  {
   "cell_type": "code",
   "execution_count": null,
   "id": "e395bd38",
   "metadata": {},
   "outputs": [],
   "source": [
    "DS_Q_Q_Hist(female.EDUCATION_LOWER_T1)"
   ]
  },
  {
   "cell_type": "markdown",
   "id": "a1dd1398",
   "metadata": {},
   "source": [
    "The percentage of lower education level seems normally distributed for men, but not for women."
   ]
  },
  {
   "cell_type": "code",
   "execution_count": null,
   "id": "fb9829ed",
   "metadata": {},
   "outputs": [],
   "source": [
    "# .fillna() has the same effect as interpolate\n",
    "#sel1 = sel1.fillna(method='ffill')\n",
    "#sel1.tail(5)"
   ]
  },
  {
   "cell_type": "code",
   "execution_count": null,
   "id": "c3831a17",
   "metadata": {},
   "outputs": [],
   "source": [
    "# Check the correlations\n",
    "#df.corr().abs()"
   ]
  },
  {
   "cell_type": "code",
   "execution_count": null,
   "id": "93a6c693",
   "metadata": {},
   "outputs": [],
   "source": [
    "DS_Q_Q_Plot(male.OSTEOARTHRITIS_T1)"
   ]
  },
  {
   "cell_type": "code",
   "execution_count": null,
   "id": "78ad3f49",
   "metadata": {},
   "outputs": [],
   "source": [
    "DS_Q_Q_Hist(male.OSTEOARTHRITIS_T1)"
   ]
  },
  {
   "cell_type": "code",
   "execution_count": null,
   "id": "8a838799",
   "metadata": {},
   "outputs": [],
   "source": [
    "DS_Q_Q_Plot(female.OSTEOARTHRITIS_T1)"
   ]
  },
  {
   "cell_type": "code",
   "execution_count": null,
   "id": "061bc33a",
   "metadata": {},
   "outputs": [],
   "source": [
    "histogram = male.hvplot.hist('OSTEOARTHRITIS_T1', subplots=True,\n",
    "                             alpha = 0.4)\n",
    "histogram"
   ]
  },
  {
   "cell_type": "code",
   "execution_count": null,
   "id": "a3c76cb6",
   "metadata": {},
   "outputs": [],
   "source": [
    "DS_Q_Q_Hist(female.OSTEOARTHRITIS_T1)"
   ]
  },
  {
   "cell_type": "code",
   "execution_count": null,
   "id": "d016c2c4",
   "metadata": {},
   "outputs": [],
   "source": [
    "histogram = female.hvplot.hist('OSTEOARTHRITIS_T1', \n",
    "                             alpha = 0.5)\n",
    "histogram"
   ]
  },
  {
   "cell_type": "code",
   "execution_count": null,
   "id": "2ea4ae06",
   "metadata": {},
   "outputs": [],
   "source": [
    "shapiro(male.EDUCATION_LOWER_T1)\n",
    "shapiro(female.EDUCATION_LOWER_T1)\n",
    "shapiro(female.OSTEOARTHRITIS_T1)\n",
    "shapiro(female.OSTEOARTHRITIS_T1)"
   ]
  },
  {
   "cell_type": "markdown",
   "id": "7698abf8",
   "metadata": {},
   "source": [
    "***"
   ]
  },
  {
   "cell_type": "markdown",
   "id": "9798d99e",
   "metadata": {},
   "source": [
    "***"
   ]
  },
  {
   "cell_type": "markdown",
   "id": "f20a0b0e",
   "metadata": {},
   "source": [
    "Some columns have missing values\n",
    "Use interpolation to fill the missing values.\n",
    "Method: pad fills in NaNs using existing values.\n",
    "With this method the limit direction must be forward, \n"
   ]
  },
  {
   "cell_type": "code",
   "execution_count": null,
   "id": "53de6738",
   "metadata": {},
   "outputs": [],
   "source": [
    "# # Sort dataframe and interpolae missing data\n",
    "# age = age.sort_index()\n",
    "# age['C_SUM_T1'] = age[\"C_SUM_T1\"].interpolate(method='pad', limit_direction='forward')"
   ]
  },
  {
   "cell_type": "markdown",
   "id": "a4e1336a",
   "metadata": {},
   "source": [
    "For the public health dataset we show the percentage of\n",
    "participants within their group of aggregation (on zip code or age) whose highest education is\n",
    "‘lower education’."
   ]
  },
  {
   "cell_type": "markdown",
   "id": "a17ba8b8",
   "metadata": {},
   "source": [
    "Evenly (uniform) data yield a sigmoidal Q-Q plot,"
   ]
  },
  {
   "cell_type": "markdown",
   "id": "9bd90807",
   "metadata": {},
   "source": [
    "(male education is normally distributed, female education is not)"
   ]
  },
  {
   "cell_type": "markdown",
   "id": "5366f184",
   "metadata": {},
   "source": [
    "wilcoxontest/spearman -> not normal distributed"
   ]
  },
  {
   "cell_type": "markdown",
   "id": "36e045da",
   "metadata": {},
   "source": [
    "groupby?"
   ]
  },
  {
   "cell_type": "markdown",
   "id": "d143be4c",
   "metadata": {},
   "source": [
    "***"
   ]
  },
  {
   "cell_type": "markdown",
   "id": "b1296e26",
   "metadata": {},
   "source": [
    "### Age related"
   ]
  },
  {
   "cell_type": "code",
   "execution_count": null,
   "id": "ffaf2b53",
   "metadata": {},
   "outputs": [],
   "source": [
    "# Average age of men and women in the dataset is 55\n",
    "# Use this as a cutoff to split the groups\n",
    "female_old = female[female['AGE'] > 55]\n",
    "female_young = female[female['AGE'] <= 55]\n",
    "male_old = male[male['AGE'] > 55]\n",
    "male_young = male[male['AGE'] <= 55]"
   ]
  },
  {
   "cell_type": "code",
   "execution_count": null,
   "id": "21ad7afc",
   "metadata": {},
   "outputs": [],
   "source": [
    "#correlation matrix\n",
    "# Heatmap\n",
    "cor_male = male_young.corr().abs()\n",
    "#selection.corr().abs()\n",
    "sns.heatmap(cor_male, annot=True)"
   ]
  },
  {
   "cell_type": "code",
   "execution_count": null,
   "id": "e8af4764",
   "metadata": {},
   "outputs": [],
   "source": [
    "# Density plot education by gender\n",
    "female_old.hvplot.kde('EDUCATION_LOWER_T1', alpha=0.5)"
   ]
  },
  {
   "cell_type": "code",
   "execution_count": null,
   "id": "65e4fa54",
   "metadata": {},
   "outputs": [],
   "source": [
    "DS_Q_Q_Plot(female_old.EDUCATION_LOWER_T1)"
   ]
  },
  {
   "cell_type": "code",
   "execution_count": null,
   "id": "c84d9022",
   "metadata": {},
   "outputs": [],
   "source": [
    "# Density plot education by gender\n",
    "female_young.hvplot.kde('EDUCATION_LOWER_T1', alpha=0.5)"
   ]
  },
  {
   "cell_type": "code",
   "execution_count": null,
   "id": "8c80d325",
   "metadata": {},
   "outputs": [],
   "source": [
    "#correlation matrix\n",
    "# Heatmap\n",
    "cor_male = male_old.corr().abs()\n",
    "#selection.corr().abs()\n",
    "sns.heatmap(cor_male, annot=True)"
   ]
  },
  {
   "cell_type": "code",
   "execution_count": null,
   "id": "da7f3cdf",
   "metadata": {},
   "outputs": [],
   "source": [
    "#correlation matrix\n",
    "# Heatmap\n",
    "cor_female = female_young.corr().abs()\n",
    "#selection.corr().abs()\n",
    "sns.heatmap(cor_female, annot=True)"
   ]
  },
  {
   "cell_type": "code",
   "execution_count": null,
   "id": "71a27362",
   "metadata": {},
   "outputs": [],
   "source": [
    "#correlation matrix\n",
    "# Heatmap\n",
    "cor_female = female_old.corr().abs()\n",
    "#selection.corr().abs()\n",
    "sns.heatmap(cor_female, annot=True)"
   ]
  },
  {
   "cell_type": "markdown",
   "id": "97f8ca5b",
   "metadata": {},
   "source": [
    "Average percentage of having a lower education is 32.47 for men"
   ]
  },
  {
   "cell_type": "markdown",
   "id": "6d95c498",
   "metadata": {},
   "source": [
    "Average percentage of having a lower education is 36.13 for women"
   ]
  },
  {
   "cell_type": "code",
   "execution_count": null,
   "id": "c4f55a90",
   "metadata": {},
   "outputs": [],
   "source": [
    "male.GROUP_SIZE_CAT.value_counts()"
   ]
  },
  {
   "cell_type": "code",
   "execution_count": null,
   "id": "d64b4e11",
   "metadata": {},
   "outputs": [],
   "source": [
    "female.GROUP_SIZE_CAT.value_counts()"
   ]
  },
  {
   "cell_type": "code",
   "execution_count": null,
   "id": "3f07eda9",
   "metadata": {},
   "outputs": [],
   "source": []
  },
  {
   "cell_type": "code",
   "execution_count": null,
   "id": "ea5def92",
   "metadata": {},
   "outputs": [],
   "source": []
  }
 ],
 "metadata": {
  "kernelspec": {
   "display_name": "Python 3 (ipykernel)",
   "language": "python",
   "name": "python3"
  },
  "language_info": {
   "codemirror_mode": {
    "name": "ipython",
    "version": 3
   },
   "file_extension": ".py",
   "mimetype": "text/x-python",
   "name": "python",
   "nbconvert_exporter": "python",
   "pygments_lexer": "ipython3",
   "version": "3.10.8"
  }
 },
 "nbformat": 4,
 "nbformat_minor": 5
}
